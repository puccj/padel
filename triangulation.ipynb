{
 "cells": [
  {
   "cell_type": "code",
   "execution_count": 1,
   "metadata": {},
   "outputs": [
    {
     "name": "stdout",
     "output_type": "stream",
     "text": [
      "Selected point: 697, 215\n",
      "Selected point: 617, 93\n"
     ]
    }
   ],
   "source": [
    "# Take two points\n",
    "\n",
    "from debug_utils import select_point\n",
    "\n",
    "point1 = select_point(\"input_videos/primo test pallina/cam1-2m.png\")\n",
    "point2 = select_point(\"input_videos/primo test pallina/cam2-2m.png\")"
   ]
  },
  {
   "cell_type": "code",
   "execution_count": 2,
   "metadata": {},
   "outputs": [],
   "source": [
    "# Upload matrices\n",
    "from padel_utils import load_fisheye_params\n",
    "import numpy as np\n",
    "\n",
    "K1,D1 = load_fisheye_params(\"parameters/pallina1-fisheye.txt\")\n",
    "H1 = np.loadtxt(\"parameters/pallina1-perspective.txt\")\n",
    "\n",
    "K2,D2 = load_fisheye_params(\"parameters/pallina2-fisheye.txt\")\n",
    "H2 = np.loadtxt(\"parameters/pallina2-perspective.txt\")"
   ]
  },
  {
   "cell_type": "code",
   "execution_count": 3,
   "metadata": {},
   "outputs": [
    {
     "name": "stdout",
     "output_type": "stream",
     "text": [
      "Point 1:  (697, 215)\n",
      "Point 2:  (617, 93)\n",
      "Transformed 1:  [     6.5823      5.8581]\n",
      "Transformed 2:  [      6.175      60.055]\n"
     ]
    }
   ],
   "source": [
    "# Undistort and rectify points\n",
    "from padel_utils import transform_points\n",
    "\n",
    "transformed1 = transform_points([point1], K1, D1, H1)[0]\n",
    "transformed2 = transform_points([point2], K2, D2, H2)[0]\n",
    "\n",
    "print(\"Point 1: \", point1)\n",
    "print(\"Point 2: \", point2)\n",
    "print(\"Transformed 1: \", transformed1)\n",
    "print(\"Transformed 2: \", transformed2)"
   ]
  },
  {
   "cell_type": "code",
   "execution_count": 4,
   "metadata": {},
   "outputs": [
    {
     "name": "stdout",
     "output_type": "stream",
     "text": [
      "3D position:  [     5.3707      16.548      1.9229]\n",
      "Error:  0.09761559831545649\n"
     ]
    }
   ],
   "source": [
    "# Calculate 3D point\n",
    "\n",
    "from padel_utils import triangulate\n",
    "\n",
    "O1 = np.array([5, 20.325, 2.635])\n",
    "O2 = np.array([5, -0.325, 2.635])\n",
    "\n",
    "position_3D, error = triangulate(O1, O2, transformed1, transformed2)\n",
    "print(\"3D position: \", position_3D)\n",
    "print(\"Error: \", error)"
   ]
  }
 ],
 "metadata": {
  "kernelspec": {
   "display_name": "padel",
   "language": "python",
   "name": "python3"
  },
  "language_info": {
   "codemirror_mode": {
    "name": "ipython",
    "version": 3
   },
   "file_extension": ".py",
   "mimetype": "text/x-python",
   "name": "python",
   "nbconvert_exporter": "python",
   "pygments_lexer": "ipython3",
   "version": "3.12.7"
  }
 },
 "nbformat": 4,
 "nbformat_minor": 2
}
