{
 "cells": [
  {
   "cell_type": "code",
   "execution_count": 2,
   "metadata": {},
   "outputs": [],
   "source": [
    "from debug_utils import detect_ball, load_data\n",
    "from padel_utils import load_fisheye_params, triangulate_points\n",
    "import numpy as np"
   ]
  },
  {
   "cell_type": "code",
   "execution_count": null,
   "metadata": {},
   "outputs": [],
   "source": [
    "# K1,D1 = load_fisheye_params(\"parameters/pallina1-fisheye.txt\")\n",
    "# H1 = np.loadtxt(\"parameters/pallina1-perspective.txt\")\n",
    "\n",
    "# K2,D2 = load_fisheye_params(\"parameters/pallina2-fisheye.txt\")\n",
    "# H2 = np.loadtxt(\"parameters/pallina2-perspective.txt\")\n",
    "\n",
    "# path1 = detect_ball(\"input_videos/primo test pallina/video1.mp4\", K,D,H, \"ball1.csv\", skip_frame=3, sync_frame=1)\n",
    "# path2 = detect_ball(\"input_videos/primo test pallina/video2.mp4\", K,D,H, \"ball2.csv\"\n",
    "\n",
    "\n",
    "# Suppose we have already detected the ball in the two videos and saved the results in the csv files\n",
    "path1 = \"output_data/ball1-0area.csv\"\n",
    "path2 = \"output_data/ball2-0area.csv\""
   ]
  },
  {
   "cell_type": "code",
   "execution_count": 4,
   "metadata": {},
   "outputs": [],
   "source": [
    "O1 = np.array([5, 20.325, 2.635])\n",
    "O2 = np.array([5, -0.325, 2.635])"
   ]
  },
  {
   "cell_type": "code",
   "execution_count": 5,
   "metadata": {},
   "outputs": [],
   "source": [
    "data1 = load_data(path1)\n",
    "data2 = load_data(path2)"
   ]
  },
  {
   "cell_type": "code",
   "execution_count": null,
   "metadata": {},
   "outputs": [],
   "source": [
    "import csv\n",
    "\n",
    "out_path = 'output_data/triangulated_points.csv'\n",
    "\n",
    "with open(out_path, \"w\"):\n",
    "    pass\n",
    "\n",
    "writer = csv.writer(open(out_path, \"w\"))\n",
    "\n",
    "for frame in range(len(data1)):\n",
    "    row = [frame]\n",
    "    points, errors = triangulate_points(O1, O2, data1[frame], data2[frame])\n",
    "    if points is not None:\n",
    "        for p, e in zip(points, errors):\n",
    "            row.append(p)\n",
    "            row.append(e)\n",
    "    \n",
    "    writer.writerow(row)\n",
    "    "
   ]
  },
  {
   "cell_type": "markdown",
   "metadata": {},
   "source": [
    "# Show the video with balls drawn on top"
   ]
  },
  {
   "cell_type": "code",
   "execution_count": null,
   "metadata": {},
   "outputs": [],
   "source": [
    "# Read the csv file\n",
    "import csv\n",
    "out_path = 'output_data/triangulated_points.csv'\n",
    "\n",
    "data = []\n",
    "with open(out_path, \"r\") as f:\n",
    "    reader = csv.reader(f)\n",
    "    for row in reader:\n",
    "        frame_num = int(row[0])\n",
    "\n",
    "        detections = []\n",
    "        for i in range(1, len(row), 2):\n",
    "            detection_pos_str = row[i].strip('[] ')\n",
    "            detection_pos = [float(coord) for coord in detection_pos_str.split()]\n",
    "            detection_error = float(row[i+1])\n",
    "            \n",
    "            detections.append((detection_pos, detection_error))\n",
    "        # frame_data = (frame_num, detections)\n",
    "        # data.append(frame_data)\n",
    "        data.append(detections)"
   ]
  },
  {
   "cell_type": "code",
   "execution_count": 3,
   "metadata": {},
   "outputs": [],
   "source": [
    "import cv2\n",
    "from padel_utils import draw_mini_court\n",
    "import numpy as np\n",
    "\n",
    "video_path = \"input_videos/primo test pallina/video1.mp4\"\n",
    "skip_frame = 3\n",
    "sync_frame = 1\n",
    "\n",
    "cap = cv2.VideoCapture(video_path)\n",
    "\n",
    "for _ in range(skip_frame):\n",
    "    cap.read()\n",
    "\n",
    "for frame in range(len(data)):\n",
    "    cap.read()\n",
    "    ret, img = cap.read()\n",
    "    if not ret:\n",
    "        break\n",
    "    \n",
    "    detections = data[frame]\n",
    "    positions = [d[0] for d in detections]\n",
    "    errors = [d[1] for d in detections]\n",
    "\n",
    "    best_position = None\n",
    "    if len(positions) != 0:\n",
    "        best_detection = np.argmin(errors)\n",
    "        best_position = positions[best_detection]\n",
    "\n",
    "    img = draw_mini_court(img, None, detections)\n",
    "\n",
    "    cv2.imshow(\"Frame\", img)\n",
    "    if cv2.waitKey(0) & 0xFF == ord('q'):\n",
    "        break\n",
    "\n",
    "cap.release()\n",
    "cv2.destroyAllWindows()"
   ]
  }
 ],
 "metadata": {
  "kernelspec": {
   "display_name": "padel",
   "language": "python",
   "name": "python3"
  },
  "language_info": {
   "codemirror_mode": {
    "name": "ipython",
    "version": 3
   },
   "file_extension": ".py",
   "mimetype": "text/x-python",
   "name": "python",
   "nbconvert_exporter": "python",
   "pygments_lexer": "ipython3",
   "version": "3.12.7"
  }
 },
 "nbformat": 4,
 "nbformat_minor": 2
}
